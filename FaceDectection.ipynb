{
 "cells": [
  {
   "cell_type": "code",
   "execution_count": 5,
   "id": "initial_id",
   "metadata": {
    "collapsed": true,
    "ExecuteTime": {
     "end_time": "2024-03-07T13:43:13.657095100Z",
     "start_time": "2024-03-07T13:43:13.638095200Z"
    }
   },
   "outputs": [],
   "source": [
    "import os\n",
    "import time\n",
    "import uuid\n",
    "import cv2"
   ]
  },
  {
   "cell_type": "code",
   "execution_count": 6,
   "outputs": [],
   "source": [
    "IMAGES_PATH = os.path.join('data', 'images')\n",
    "number_of_images = 10"
   ],
   "metadata": {
    "collapsed": false,
    "ExecuteTime": {
     "end_time": "2024-03-07T13:43:15.228812700Z",
     "start_time": "2024-03-07T13:43:15.201804100Z"
    }
   },
   "id": "800a7238d4794c61"
  },
  {
   "cell_type": "code",
   "execution_count": 9,
   "outputs": [
    {
     "name": "stdout",
     "output_type": "stream",
     "text": [
      "Taking image 0\n",
      "Taking image 1\n",
      "Taking image 2\n",
      "Taking image 3\n",
      "Taking image 4\n",
      "Taking image 5\n",
      "Taking image 6\n",
      "Taking image 7\n",
      "Taking image 8\n",
      "Taking image 9\n"
     ]
    }
   ],
   "source": [
    "cap = cv2.VideoCapture(0)\n",
    "for img in range(number_of_images):\n",
    "    print('Taking image {}'.format(img))\n",
    "    ret, frame = cap.read()\n",
    "    if ret:\n",
    "        image_name = os.path.join(IMAGES_PATH, str(uuid.uuid1()) + '.jpg')\n",
    "        cv2.imwrite(image_name, frame)\n",
    "        time.sleep(2)\n",
    "        cv2.imshow('frame', frame)\n",
    "    else:\n",
    "        print('Error')\n",
    "        \n",
    "    if cv2.waitKey(1) & 0xFF == ord('q'):\n",
    "        break\n",
    "\n",
    "cap.release()\n",
    "cv2.destroyAllWindows()"
   ],
   "metadata": {
    "collapsed": false,
    "ExecuteTime": {
     "end_time": "2024-03-07T13:45:13.894596400Z",
     "start_time": "2024-03-07T13:44:47.939317100Z"
    }
   },
   "id": "f28a554315358a67"
  }
 ],
 "metadata": {
  "kernelspec": {
   "display_name": "Python 3",
   "language": "python",
   "name": "python3"
  },
  "language_info": {
   "codemirror_mode": {
    "name": "ipython",
    "version": 2
   },
   "file_extension": ".py",
   "mimetype": "text/x-python",
   "name": "python",
   "nbconvert_exporter": "python",
   "pygments_lexer": "ipython2",
   "version": "2.7.6"
  }
 },
 "nbformat": 4,
 "nbformat_minor": 5
}
